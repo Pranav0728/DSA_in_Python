{
 "cells": [
  {
   "cell_type": "code",
   "execution_count": 4,
   "metadata": {},
   "outputs": [],
   "source": [
    "import ctypes"
   ]
  },
  {
   "cell_type": "code",
   "execution_count": 203,
   "metadata": {},
   "outputs": [],
   "source": [
    "class DynamicArray:\n",
    "    def __init__(self):\n",
    "        self.size = 1\n",
    "        self.n = 0\n",
    "    #create an array with size n\n",
    "        self.A = self.__make_array(self.size)\n",
    "    def lenn(self):\n",
    "        return self.n\n",
    "\n",
    "    def append(self,item):\n",
    "        if self.size == self.n:\n",
    "            self.__resize(2*self.size)\n",
    "        self.A[self.n]= item\n",
    "        self.n = self.n+1\n",
    "    \n",
    "    def show(self):\n",
    "        result = ''\n",
    "        for i in range(self.n):\n",
    "            result = result + str(self.A[i]) + ', '\n",
    "        return '[' + result[:-2] + ']'\n",
    "    def clear(self):\n",
    "        self.size = 1\n",
    "        self.n = 0\n",
    "    def find(self, item):\n",
    "        for i in range(self.n):\n",
    "            if self.A[i] == item:\n",
    "                return i\n",
    "        return 'Not Found'\n",
    "    def insert(self,pos,item):\n",
    "        if self.size == self.n:\n",
    "            self.__resize(2*self.size)\n",
    "        for i in range(self.n,pos,-1):\n",
    "            self.A[i] = self.A[i-1]\n",
    "        self.A[pos] = item\n",
    "        self.n = self.n+1\n",
    "    def remove(self,item):\n",
    "        pos = self.find(item)\n",
    "        if type(pos) == int:\n",
    "            self.delete_by_pos(pos)\n",
    "        else:\n",
    "            return 'Not Found'\n",
    "    def pop(self):\n",
    "        if self.n == 0:\n",
    "            return IndexError('Array is empty')\n",
    "        else:\n",
    "            print(self.A[self.n-1])\n",
    "            self.n = self.n-1\n",
    "            self.size = self.size-1\n",
    "    def delete_by_pos(self,pos):\n",
    "        if self.n == 0:\n",
    "            return IndexError('Array is empty')\n",
    "        else:\n",
    "            for i in range(pos,self.n-1):\n",
    "                self.A[i] = self.A[i+1]\n",
    "            self.n = self.n-1\n",
    "            self.size = self.size-1\n",
    "    def __getItem__(self,item):\n",
    "        if item<0 or item>=self.n:\n",
    "            return IndexError('Index out of bounds')\n",
    "        return self.A[item]\n",
    "    def sort(self):\n",
    "        for i in range(self.n):\n",
    "            for j in range(self.n-1):\n",
    "                if self.A[j]>self.A[j+1]:\n",
    "                    self.A[j],self.A[j+1] = self.A[j+1],self.A[j]\n",
    "    \n",
    "    def __resize(self, newSize):\n",
    "        B = self.__make_array(newSize)\n",
    "        self.size = newSize\n",
    "        for i in range(self.n):\n",
    "            B[i] = self.A[i]\n",
    "        self.A = B\n",
    "    def __make_array(self,size):\n",
    "        return (size*ctypes.py_object)()\n"
   ]
  },
  {
   "cell_type": "code",
   "execution_count": 204,
   "metadata": {},
   "outputs": [],
   "source": [
    "myArray = DynamicArray()"
   ]
  },
  {
   "cell_type": "code",
   "execution_count": 207,
   "metadata": {},
   "outputs": [],
   "source": [
    "myArray.append(1)\n",
    "myArray.append(2)\n",
    "myArray.append(3)\n",
    "myArray.append(8)"
   ]
  },
  {
   "cell_type": "code",
   "execution_count": 209,
   "metadata": {},
   "outputs": [],
   "source": [
    "myArray.sort()"
   ]
  },
  {
   "cell_type": "code",
   "execution_count": 210,
   "metadata": {},
   "outputs": [
    {
     "data": {
      "text/plain": [
       "'[1, 2, 3, 5, 6, 7, 8, 8]'"
      ]
     },
     "execution_count": 210,
     "metadata": {},
     "output_type": "execute_result"
    }
   ],
   "source": [
    "myArray.show()"
   ]
  }
 ],
 "metadata": {
  "kernelspec": {
   "display_name": "venv",
   "language": "python",
   "name": "python3"
  },
  "language_info": {
   "codemirror_mode": {
    "name": "ipython",
    "version": 3
   },
   "file_extension": ".py",
   "mimetype": "text/x-python",
   "name": "python",
   "nbconvert_exporter": "python",
   "pygments_lexer": "ipython3",
   "version": "3.13.1"
  }
 },
 "nbformat": 4,
 "nbformat_minor": 2
}
