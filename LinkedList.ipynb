{
 "cells": [
  {
   "cell_type": "code",
   "execution_count": 5,
   "metadata": {},
   "outputs": [],
   "source": [
    "class Node:\n",
    "    def __init__(self,data):\n",
    "        self.data = data\n",
    "        self.next = None"
   ]
  },
  {
   "cell_type": "code",
   "execution_count": 6,
   "metadata": {},
   "outputs": [],
   "source": [
    "a = Node(1)"
   ]
  },
  {
   "cell_type": "code",
   "execution_count": 70,
   "metadata": {},
   "outputs": [],
   "source": [
    "class LinkedList:\n",
    "    def __init__(self):\n",
    "        self.head = None\n",
    "        self.n = 0\n",
    "    def len(self):\n",
    "        return self.n\n",
    "    \n",
    "    def insert_head(self, value):\n",
    "        new_node = Node(value)\n",
    "        new_node.next = self.head\n",
    "        self.head = new_node\n",
    "        self.n = self.n + 1\n",
    "    def append(self,value):\n",
    "        new_node = Node(value)\n",
    "        cur_elem = self.head\n",
    "        if cur_elem is None:\n",
    "            self.head =new_node\n",
    "        else:\n",
    "            while cur_elem.next is not None:\n",
    "                cur_elem = cur_elem.next\n",
    "            cur_elem.next =new_node\n",
    "        self.n = self.n + 1\n",
    "    def inster_after(self,node,value):\n",
    "        new_node = Node(value)\n",
    "        cur_elem = self.head\n",
    "        while cur_elem is not None:\n",
    "            if cur_elem.data == node:\n",
    "                new_node.next = cur_elem.next\n",
    "                cur_elem.next = new_node\n",
    "                self.n = self.n + 1\n",
    "                return\n",
    "            cur_elem = cur_elem.next\n",
    "        return 'Not Found'\n",
    "    def delete_head(self):\n",
    "        if self.head is None:\n",
    "            return 'List is empty'\n",
    "        else:\n",
    "            self.head = self.head.next\n",
    "            self.n = self.n - 1\n",
    "    def delete_tail(self):\n",
    "        if self.head is None:\n",
    "            return 'List is empty'\n",
    "        else:\n",
    "            cur_elem = self.head\n",
    "            while cur_elem.next.next is not None:\n",
    "                cur_elem = cur_elem.next\n",
    "            cur_elem.next = None\n",
    "            self.n = self.n - 1\n",
    "    def remove(self,value):\n",
    "        if self.head is None:\n",
    "            return 'List is empty'\n",
    "        else:\n",
    "            cur_elem = self.head\n",
    "            while cur_elem.next is not None:\n",
    "                if cur_elem.next.data == value:\n",
    "                    cur_elem.next = cur_elem.next.next\n",
    "                    self.n = self.n - 1\n",
    "                    return\n",
    "    def search(self, value):\n",
    "        cur_elem = self.head\n",
    "        pos = 0\n",
    "        while cur_elem is not None:\n",
    "            if cur_elem.data == value:\n",
    "                return pos\n",
    "            cur_elem = cur_elem.next\n",
    "            pos = pos +1\n",
    "        return 'Not Found'\n",
    "\n",
    "    def clear(self):\n",
    "        self.head = None\n",
    "        self.n = 0\n",
    "    \n",
    "    def __str__(self):\n",
    "        result = ''\n",
    "        cur_elem = self.head\n",
    "        while cur_elem is not None:\n",
    "            result = result + str(cur_elem.data) + ' --> '\n",
    "            cur_elem = cur_elem.next\n",
    "        return result[:-4]\n",
    "\n",
    "L = LinkedList()"
   ]
  },
  {
   "cell_type": "code",
   "execution_count": 77,
   "metadata": {},
   "outputs": [
    {
     "data": {
      "text/plain": [
       "0"
      ]
     },
     "execution_count": 77,
     "metadata": {},
     "output_type": "execute_result"
    }
   ],
   "source": [
    "L.search(1)\n"
   ]
  },
  {
   "cell_type": "code",
   "execution_count": 75,
   "metadata": {},
   "outputs": [
    {
     "data": {
      "text/plain": [
       "'1 --> 2 --> 3 '"
      ]
     },
     "execution_count": 75,
     "metadata": {},
     "output_type": "execute_result"
    }
   ],
   "source": [
    "str(L)"
   ]
  }
 ],
 "metadata": {
  "kernelspec": {
   "display_name": "venv",
   "language": "python",
   "name": "python3"
  },
  "language_info": {
   "codemirror_mode": {
    "name": "ipython",
    "version": 3
   },
   "file_extension": ".py",
   "mimetype": "text/x-python",
   "name": "python",
   "nbconvert_exporter": "python",
   "pygments_lexer": "ipython3",
   "version": "3.13.1"
  }
 },
 "nbformat": 4,
 "nbformat_minor": 2
}
